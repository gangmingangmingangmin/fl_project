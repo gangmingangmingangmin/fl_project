{
 "cells": [
  {
   "cell_type": "markdown",
   "metadata": {},
   "source": [
    "# upload"
   ]
  },
  {
   "cell_type": "code",
   "execution_count": 4,
   "metadata": {},
   "outputs": [],
   "source": [
    "import boto3\n",
    "import io\n",
    "import pandas as pd\n",
    "import pickle"
   ]
  },
  {
   "cell_type": "code",
   "execution_count": 2,
   "metadata": {},
   "outputs": [],
   "source": [
    "client = boto3.client('s3')\n",
    "paginator = client.get_paginator('list_objects_v2')\n",
    "\n",
    "response_iterator = paginator.paginate(\n",
    "    Bucket='federatedlearing'\n",
    ")\n",
    "file_list=[]\n",
    "for page in response_iterator:\n",
    "    for content in page['Contents']:\n",
    "        if content['Key'][-4:] =='.pkl':\n",
    "            file_list.append(content['Key'][:-4])"
   ]
  },
  {
   "cell_type": "code",
   "execution_count": 3,
   "metadata": {
    "scrolled": true
   },
   "outputs": [
    {
     "data": {
      "text/plain": [
       "[]"
      ]
     },
     "execution_count": 3,
     "metadata": {},
     "output_type": "execute_result"
    }
   ],
   "source": [
    "file_list"
   ]
  },
  {
   "cell_type": "code",
   "execution_count": 4,
   "metadata": {},
   "outputs": [],
   "source": [
    "import os\n",
    "\n",
    "path = \"./ts_data\"\n",
    "file_list = os.listdir(path)"
   ]
  },
  {
   "cell_type": "code",
   "execution_count": 8,
   "metadata": {},
   "outputs": [],
   "source": [
    "for i in file_list:\n",
    "    name=path+'/'+i\n",
    "    client.upload_file(name,'federatedlearing',i)"
   ]
  },
  {
   "cell_type": "code",
   "execution_count": 9,
   "metadata": {},
   "outputs": [
    {
     "name": "stdout",
     "output_type": "stream",
     "text": [
      "ts_file0.pkl\n"
     ]
    }
   ],
   "source": [
    "for i in file_list:\n",
    "    print(i)\n",
    "    break"
   ]
  },
  {
   "cell_type": "markdown",
   "metadata": {},
   "source": [
    "# remove"
   ]
  },
  {
   "cell_type": "code",
   "execution_count": 83,
   "metadata": {},
   "outputs": [],
   "source": [
    "client = boto3.client('s3')\n",
    "paginator = client.get_paginator('list_objects_v2')\n",
    "\n",
    "response_iterator = paginator.paginate(\n",
    "    Bucket='federatedlearing'\n",
    ")\n",
    "file_list=[]\n",
    "for page in response_iterator:\n",
    "    for content in page['Contents']:\n",
    "        if content['Key'][-4:] =='.pkl':\n",
    "            file_list.append(content['Key'])"
   ]
  },
  {
   "cell_type": "code",
   "execution_count": 88,
   "metadata": {},
   "outputs": [],
   "source": [
    "for i in file_list:\n",
    "    client.delete_object(Bucket='federatedlearing',Key=i)"
   ]
  },
  {
   "cell_type": "markdown",
   "metadata": {},
   "source": [
    "# download"
   ]
  },
  {
   "cell_type": "code",
   "execution_count": 2,
   "metadata": {},
   "outputs": [],
   "source": [
    "client = boto3.client('s3')\n",
    "paginator = client.get_paginator('list_objects_v2')\n",
    "\n",
    "response_iterator = paginator.paginate(\n",
    "    Bucket='federatedlearing'\n",
    ")\n",
    "file_list=[]\n",
    "for page in response_iterator:\n",
    "    for content in page['Contents']:\n",
    "        if content['Key'][-4:] =='.pkl':\n",
    "            file_list.append(content['Key'])\n",
    "            \n",
    "s3 = boto3.resource('s3',region_name='ap-northeast-2')\n",
    "bucket = 'federatedlearing'"
   ]
  },
  {
   "cell_type": "code",
   "execution_count": 6,
   "metadata": {},
   "outputs": [],
   "source": [
    "for item in file_list:\n",
    "    obj=s3.Object(bucket,item)\n",
    "    objd = obj.get()['Body'].read()\n",
    "    objO = pickle.loads(objd)\n",
    "    #objO=pd.read_pickle(objd)\n",
    "    break"
   ]
  },
  {
   "cell_type": "code",
   "execution_count": 7,
   "metadata": {},
   "outputs": [
    {
     "data": {
      "text/html": [
       "<div>\n",
       "<style scoped>\n",
       "    .dataframe tbody tr th:only-of-type {\n",
       "        vertical-align: middle;\n",
       "    }\n",
       "\n",
       "    .dataframe tbody tr th {\n",
       "        vertical-align: top;\n",
       "    }\n",
       "\n",
       "    .dataframe thead th {\n",
       "        text-align: right;\n",
       "    }\n",
       "</style>\n",
       "<table border=\"1\" class=\"dataframe\">\n",
       "  <thead>\n",
       "    <tr style=\"text-align: right;\">\n",
       "      <th></th>\n",
       "      <th>x_lag10081</th>\n",
       "      <th>x_lag10071</th>\n",
       "      <th>x_lag10061</th>\n",
       "      <th>x_lag10051</th>\n",
       "      <th>x_lag10041</th>\n",
       "      <th>x_lag10031</th>\n",
       "      <th>x_lag10021</th>\n",
       "      <th>x_lag10011</th>\n",
       "      <th>x_lag10001</th>\n",
       "      <th>x_lag9991</th>\n",
       "      <th>...</th>\n",
       "      <th>x_lag91</th>\n",
       "      <th>x_lag81</th>\n",
       "      <th>x_lag71</th>\n",
       "      <th>x_lag61</th>\n",
       "      <th>x_lag51</th>\n",
       "      <th>x_lag41</th>\n",
       "      <th>x_lag31</th>\n",
       "      <th>x_lag21</th>\n",
       "      <th>x_lag11</th>\n",
       "      <th>y</th>\n",
       "    </tr>\n",
       "  </thead>\n",
       "  <tbody>\n",
       "    <tr>\n",
       "      <th>0</th>\n",
       "      <td>0.148832</td>\n",
       "      <td>0.281912</td>\n",
       "      <td>0.165852</td>\n",
       "      <td>0.136158</td>\n",
       "      <td>0.132899</td>\n",
       "      <td>0.144487</td>\n",
       "      <td>0.148108</td>\n",
       "      <td>0.127829</td>\n",
       "      <td>0.127286</td>\n",
       "      <td>0.141952</td>\n",
       "      <td>...</td>\n",
       "      <td>0.135072</td>\n",
       "      <td>0.062285</td>\n",
       "      <td>0.062285</td>\n",
       "      <td>0.070433</td>\n",
       "      <td>0.062466</td>\n",
       "      <td>0.066993</td>\n",
       "      <td>0.060293</td>\n",
       "      <td>0.048705</td>\n",
       "      <td>0.041282</td>\n",
       "      <td>0.395799</td>\n",
       "    </tr>\n",
       "    <tr>\n",
       "      <th>1</th>\n",
       "      <td>0.149194</td>\n",
       "      <td>0.273764</td>\n",
       "      <td>0.157161</td>\n",
       "      <td>0.133985</td>\n",
       "      <td>0.132899</td>\n",
       "      <td>0.149013</td>\n",
       "      <td>0.144849</td>\n",
       "      <td>0.128372</td>\n",
       "      <td>0.127286</td>\n",
       "      <td>0.141771</td>\n",
       "      <td>...</td>\n",
       "      <td>0.096506</td>\n",
       "      <td>0.063552</td>\n",
       "      <td>0.065182</td>\n",
       "      <td>0.065906</td>\n",
       "      <td>0.057758</td>\n",
       "      <td>0.053232</td>\n",
       "      <td>0.061561</td>\n",
       "      <td>0.050154</td>\n",
       "      <td>0.374796</td>\n",
       "      <td>0.483071</td>\n",
       "    </tr>\n",
       "    <tr>\n",
       "      <th>2</th>\n",
       "      <td>0.149194</td>\n",
       "      <td>0.267246</td>\n",
       "      <td>0.152997</td>\n",
       "      <td>0.133985</td>\n",
       "      <td>0.132899</td>\n",
       "      <td>0.149737</td>\n",
       "      <td>0.141047</td>\n",
       "      <td>0.128191</td>\n",
       "      <td>0.127467</td>\n",
       "      <td>0.141590</td>\n",
       "      <td>...</td>\n",
       "      <td>0.093609</td>\n",
       "      <td>0.055586</td>\n",
       "      <td>0.064820</td>\n",
       "      <td>0.066993</td>\n",
       "      <td>0.046714</td>\n",
       "      <td>0.065725</td>\n",
       "      <td>0.059388</td>\n",
       "      <td>0.048524</td>\n",
       "      <td>0.478363</td>\n",
       "      <td>0.466051</td>\n",
       "    </tr>\n",
       "    <tr>\n",
       "      <th>3</th>\n",
       "      <td>0.149013</td>\n",
       "      <td>0.181242</td>\n",
       "      <td>0.148832</td>\n",
       "      <td>0.133804</td>\n",
       "      <td>0.132356</td>\n",
       "      <td>0.150100</td>\n",
       "      <td>0.135072</td>\n",
       "      <td>0.128010</td>\n",
       "      <td>0.137244</td>\n",
       "      <td>0.141228</td>\n",
       "      <td>...</td>\n",
       "      <td>0.095057</td>\n",
       "      <td>0.049430</td>\n",
       "      <td>0.069890</td>\n",
       "      <td>0.073692</td>\n",
       "      <td>0.064096</td>\n",
       "      <td>0.066449</td>\n",
       "      <td>0.061018</td>\n",
       "      <td>0.050335</td>\n",
       "      <td>0.479631</td>\n",
       "      <td>0.470034</td>\n",
       "    </tr>\n",
       "    <tr>\n",
       "      <th>4</th>\n",
       "      <td>0.150100</td>\n",
       "      <td>0.170559</td>\n",
       "      <td>0.148289</td>\n",
       "      <td>0.133442</td>\n",
       "      <td>0.132356</td>\n",
       "      <td>0.149375</td>\n",
       "      <td>0.131269</td>\n",
       "      <td>0.127829</td>\n",
       "      <td>0.138874</td>\n",
       "      <td>0.141409</td>\n",
       "      <td>...</td>\n",
       "      <td>0.078943</td>\n",
       "      <td>0.060837</td>\n",
       "      <td>0.070614</td>\n",
       "      <td>0.075140</td>\n",
       "      <td>0.066630</td>\n",
       "      <td>0.056672</td>\n",
       "      <td>0.056129</td>\n",
       "      <td>0.043093</td>\n",
       "      <td>0.480898</td>\n",
       "      <td>0.360130</td>\n",
       "    </tr>\n",
       "    <tr>\n",
       "      <th>...</th>\n",
       "      <td>...</td>\n",
       "      <td>...</td>\n",
       "      <td>...</td>\n",
       "      <td>...</td>\n",
       "      <td>...</td>\n",
       "      <td>...</td>\n",
       "      <td>...</td>\n",
       "      <td>...</td>\n",
       "      <td>...</td>\n",
       "      <td>...</td>\n",
       "      <td>...</td>\n",
       "      <td>...</td>\n",
       "      <td>...</td>\n",
       "      <td>...</td>\n",
       "      <td>...</td>\n",
       "      <td>...</td>\n",
       "      <td>...</td>\n",
       "      <td>...</td>\n",
       "      <td>...</td>\n",
       "      <td>...</td>\n",
       "      <td>...</td>\n",
       "    </tr>\n",
       "    <tr>\n",
       "      <th>12795</th>\n",
       "      <td>0.157161</td>\n",
       "      <td>0.164766</td>\n",
       "      <td>0.185044</td>\n",
       "      <td>0.147022</td>\n",
       "      <td>0.151005</td>\n",
       "      <td>0.157161</td>\n",
       "      <td>0.145573</td>\n",
       "      <td>0.146840</td>\n",
       "      <td>0.143581</td>\n",
       "      <td>0.149013</td>\n",
       "      <td>...</td>\n",
       "      <td>0.100670</td>\n",
       "      <td>0.073873</td>\n",
       "      <td>0.514575</td>\n",
       "      <td>0.217273</td>\n",
       "      <td>0.259641</td>\n",
       "      <td>0.126562</td>\n",
       "      <td>0.075502</td>\n",
       "      <td>0.083831</td>\n",
       "      <td>0.132718</td>\n",
       "      <td>0.389643</td>\n",
       "    </tr>\n",
       "    <tr>\n",
       "      <th>12796</th>\n",
       "      <td>0.156437</td>\n",
       "      <td>0.163860</td>\n",
       "      <td>0.184682</td>\n",
       "      <td>0.145573</td>\n",
       "      <td>0.156075</td>\n",
       "      <td>0.157342</td>\n",
       "      <td>0.145935</td>\n",
       "      <td>0.145754</td>\n",
       "      <td>0.149737</td>\n",
       "      <td>0.147022</td>\n",
       "      <td>...</td>\n",
       "      <td>0.100489</td>\n",
       "      <td>0.081477</td>\n",
       "      <td>0.483433</td>\n",
       "      <td>0.075684</td>\n",
       "      <td>0.073330</td>\n",
       "      <td>0.126562</td>\n",
       "      <td>0.074959</td>\n",
       "      <td>0.083831</td>\n",
       "      <td>0.081477</td>\n",
       "      <td>0.388919</td>\n",
       "    </tr>\n",
       "    <tr>\n",
       "      <th>12797</th>\n",
       "      <td>0.155894</td>\n",
       "      <td>0.164041</td>\n",
       "      <td>0.152815</td>\n",
       "      <td>0.145030</td>\n",
       "      <td>0.167481</td>\n",
       "      <td>0.158066</td>\n",
       "      <td>0.146116</td>\n",
       "      <td>0.145211</td>\n",
       "      <td>0.150100</td>\n",
       "      <td>0.147022</td>\n",
       "      <td>...</td>\n",
       "      <td>0.124027</td>\n",
       "      <td>0.228137</td>\n",
       "      <td>0.302010</td>\n",
       "      <td>0.077494</td>\n",
       "      <td>0.072424</td>\n",
       "      <td>0.169654</td>\n",
       "      <td>0.075502</td>\n",
       "      <td>0.083469</td>\n",
       "      <td>0.081115</td>\n",
       "      <td>0.390005</td>\n",
       "    </tr>\n",
       "    <tr>\n",
       "      <th>12798</th>\n",
       "      <td>0.157342</td>\n",
       "      <td>0.163860</td>\n",
       "      <td>0.155531</td>\n",
       "      <td>0.145211</td>\n",
       "      <td>0.182872</td>\n",
       "      <td>0.156618</td>\n",
       "      <td>0.145754</td>\n",
       "      <td>0.145754</td>\n",
       "      <td>0.150100</td>\n",
       "      <td>0.148289</td>\n",
       "      <td>...</td>\n",
       "      <td>0.099221</td>\n",
       "      <td>0.290784</td>\n",
       "      <td>0.301829</td>\n",
       "      <td>0.171465</td>\n",
       "      <td>0.078943</td>\n",
       "      <td>0.153902</td>\n",
       "      <td>0.074959</td>\n",
       "      <td>0.083831</td>\n",
       "      <td>0.162593</td>\n",
       "      <td>0.211479</td>\n",
       "    </tr>\n",
       "    <tr>\n",
       "      <th>12799</th>\n",
       "      <td>0.162412</td>\n",
       "      <td>0.163860</td>\n",
       "      <td>0.147927</td>\n",
       "      <td>0.141047</td>\n",
       "      <td>0.179069</td>\n",
       "      <td>0.156799</td>\n",
       "      <td>0.148651</td>\n",
       "      <td>0.140503</td>\n",
       "      <td>0.150824</td>\n",
       "      <td>0.149556</td>\n",
       "      <td>...</td>\n",
       "      <td>0.098678</td>\n",
       "      <td>0.370994</td>\n",
       "      <td>0.299113</td>\n",
       "      <td>0.282093</td>\n",
       "      <td>0.092884</td>\n",
       "      <td>0.082383</td>\n",
       "      <td>0.074597</td>\n",
       "      <td>0.083650</td>\n",
       "      <td>0.186674</td>\n",
       "      <td>0.158972</td>\n",
       "    </tr>\n",
       "  </tbody>\n",
       "</table>\n",
       "<p>12800 rows × 1009 columns</p>\n",
       "</div>"
      ],
      "text/plain": [
       "       x_lag10081  x_lag10071  x_lag10061  x_lag10051  x_lag10041  x_lag10031  \\\n",
       "0        0.148832    0.281912    0.165852    0.136158    0.132899    0.144487   \n",
       "1        0.149194    0.273764    0.157161    0.133985    0.132899    0.149013   \n",
       "2        0.149194    0.267246    0.152997    0.133985    0.132899    0.149737   \n",
       "3        0.149013    0.181242    0.148832    0.133804    0.132356    0.150100   \n",
       "4        0.150100    0.170559    0.148289    0.133442    0.132356    0.149375   \n",
       "...           ...         ...         ...         ...         ...         ...   \n",
       "12795    0.157161    0.164766    0.185044    0.147022    0.151005    0.157161   \n",
       "12796    0.156437    0.163860    0.184682    0.145573    0.156075    0.157342   \n",
       "12797    0.155894    0.164041    0.152815    0.145030    0.167481    0.158066   \n",
       "12798    0.157342    0.163860    0.155531    0.145211    0.182872    0.156618   \n",
       "12799    0.162412    0.163860    0.147927    0.141047    0.179069    0.156799   \n",
       "\n",
       "       x_lag10021  x_lag10011  x_lag10001  x_lag9991  ...   x_lag91   x_lag81  \\\n",
       "0        0.148108    0.127829    0.127286   0.141952  ...  0.135072  0.062285   \n",
       "1        0.144849    0.128372    0.127286   0.141771  ...  0.096506  0.063552   \n",
       "2        0.141047    0.128191    0.127467   0.141590  ...  0.093609  0.055586   \n",
       "3        0.135072    0.128010    0.137244   0.141228  ...  0.095057  0.049430   \n",
       "4        0.131269    0.127829    0.138874   0.141409  ...  0.078943  0.060837   \n",
       "...           ...         ...         ...        ...  ...       ...       ...   \n",
       "12795    0.145573    0.146840    0.143581   0.149013  ...  0.100670  0.073873   \n",
       "12796    0.145935    0.145754    0.149737   0.147022  ...  0.100489  0.081477   \n",
       "12797    0.146116    0.145211    0.150100   0.147022  ...  0.124027  0.228137   \n",
       "12798    0.145754    0.145754    0.150100   0.148289  ...  0.099221  0.290784   \n",
       "12799    0.148651    0.140503    0.150824   0.149556  ...  0.098678  0.370994   \n",
       "\n",
       "        x_lag71   x_lag61   x_lag51   x_lag41   x_lag31   x_lag21   x_lag11  \\\n",
       "0      0.062285  0.070433  0.062466  0.066993  0.060293  0.048705  0.041282   \n",
       "1      0.065182  0.065906  0.057758  0.053232  0.061561  0.050154  0.374796   \n",
       "2      0.064820  0.066993  0.046714  0.065725  0.059388  0.048524  0.478363   \n",
       "3      0.069890  0.073692  0.064096  0.066449  0.061018  0.050335  0.479631   \n",
       "4      0.070614  0.075140  0.066630  0.056672  0.056129  0.043093  0.480898   \n",
       "...         ...       ...       ...       ...       ...       ...       ...   \n",
       "12795  0.514575  0.217273  0.259641  0.126562  0.075502  0.083831  0.132718   \n",
       "12796  0.483433  0.075684  0.073330  0.126562  0.074959  0.083831  0.081477   \n",
       "12797  0.302010  0.077494  0.072424  0.169654  0.075502  0.083469  0.081115   \n",
       "12798  0.301829  0.171465  0.078943  0.153902  0.074959  0.083831  0.162593   \n",
       "12799  0.299113  0.282093  0.092884  0.082383  0.074597  0.083650  0.186674   \n",
       "\n",
       "              y  \n",
       "0      0.395799  \n",
       "1      0.483071  \n",
       "2      0.466051  \n",
       "3      0.470034  \n",
       "4      0.360130  \n",
       "...         ...  \n",
       "12795  0.389643  \n",
       "12796  0.388919  \n",
       "12797  0.390005  \n",
       "12798  0.211479  \n",
       "12799  0.158972  \n",
       "\n",
       "[12800 rows x 1009 columns]"
      ]
     },
     "execution_count": 7,
     "metadata": {},
     "output_type": "execute_result"
    }
   ],
   "source": [
    "objO"
   ]
  },
  {
   "cell_type": "code",
   "execution_count": 9,
   "metadata": {},
   "outputs": [
    {
     "data": {
      "text/plain": [
       "12800"
      ]
     },
     "execution_count": 9,
     "metadata": {},
     "output_type": "execute_result"
    }
   ],
   "source": [
    "len(objO.index)"
   ]
  },
  {
   "cell_type": "code",
   "execution_count": 1,
   "metadata": {},
   "outputs": [],
   "source": [
    "import boto3\n",
    "import pickle"
   ]
  },
  {
   "cell_type": "code",
   "execution_count": 6,
   "metadata": {},
   "outputs": [],
   "source": [
    "s3 = boto3.resource('s3',region_name='ap-northeast-2')\n",
    "bucket = 'federatedlearing'\n",
    "\n",
    "temp = []\n",
    "item = 'ts_file0.pkl'\n",
    "obj=s3.Object(bucket,item)\n",
    "\n",
    "objd = obj.get()['Body'].read()\n",
    "objO = pickle.loads(objd)\n",
    "temp.append(objO.values[0][0])"
   ]
  },
  {
   "cell_type": "code",
   "execution_count": 3,
   "metadata": {},
   "outputs": [
    {
     "data": {
      "text/plain": [
       "[0.14883215643671915]"
      ]
     },
     "execution_count": 3,
     "metadata": {},
     "output_type": "execute_result"
    }
   ],
   "source": [
    "temp"
   ]
  },
  {
   "cell_type": "code",
   "execution_count": 10,
   "metadata": {},
   "outputs": [
    {
     "data": {
      "text/plain": [
       "1622085687.1731899"
      ]
     },
     "execution_count": 10,
     "metadata": {},
     "output_type": "execute_result"
    }
   ],
   "source": [
    "import time\n",
    "time.time()"
   ]
  },
  {
   "cell_type": "code",
   "execution_count": null,
   "metadata": {},
   "outputs": [],
   "source": []
  }
 ],
 "metadata": {
  "kernelspec": {
   "display_name": "Python 3",
   "language": "python",
   "name": "python3"
  },
  "language_info": {
   "codemirror_mode": {
    "name": "ipython",
    "version": 3
   },
   "file_extension": ".py",
   "mimetype": "text/x-python",
   "name": "python",
   "nbconvert_exporter": "python",
   "pygments_lexer": "ipython3",
   "version": "3.7.6"
  }
 },
 "nbformat": 4,
 "nbformat_minor": 4
}
